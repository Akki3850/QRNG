{
 "cells": [
  {
   "cell_type": "code",
   "execution_count": null,
   "id": "68004db9",
   "metadata": {},
   "outputs": [],
   "source": [
    "from qiskit import QuantumCircuit, transpile\n",
    "from qiskit_aer import AerSimulator\n",
    "import numpy as np \n",
    "import matplotlib.pyplot as plt \n",
    "%matplotlib inline \n",
    "#Important libraries "
   ]
  },
  {
   "cell_type": "code",
   "execution_count": null,
   "id": "b3d7f009",
   "metadata": {},
   "outputs": [],
   "source": [
    "def setup_backend(mode):\n",
    "    if mode == \"simulator\":\n",
    "        return AerSimulator(method='automatic')\n",
    "    elif mode == 'hardware':\n",
    "        pass  #Hardware from the IBM website can also be used \n",
    "    else:\n",
    "        print(\"The backend can either be simulator or IBM hardware\")\n"
   ]
  },
  {
   "cell_type": "code",
   "execution_count": 3,
   "id": "2d393796",
   "metadata": {},
   "outputs": [],
   "source": [
    "def random_number_circuit(n): #n is the number of digits the random number should have in binary \n",
    "    qc=QuantumCircuit(n,n)\n",
    "    for i in range(n):\n",
    "        qc.h(i) \n",
    "    qc.measure(range(n), range(n))   \n",
    "    return qc \n"
   ]
  },
  {
   "cell_type": "code",
   "execution_count": 4,
   "id": "bcc80927",
   "metadata": {},
   "outputs": [],
   "source": [
    "def run_circuit(qc,simulator): #to run the circuit just put the number of shots to 1 \n",
    "    compiled_circuit = transpile(qc,simulator)\n",
    "    result=simulator.run(compiled_circuit,shots=1).result()\n",
    "    counts=result.get_counts()\n",
    "    bitstring = list(counts.keys())[0]\n",
    "    return bitstring \n"
   ]
  },
  {
   "cell_type": "code",
   "execution_count": null,
   "id": "a8e3441d",
   "metadata": {},
   "outputs": [],
   "source": [
    "def bits_to_int(bitstring): #Binary number is being converted to a decimal \n",
    "    num =0 \n",
    "    for i in range(len(bitstring)):\n",
    "        num += int(bitstring[i])*(2**(len(bitstring)-1-i))\n",
    "    return num"
   ]
  },
  {
   "cell_type": "code",
   "execution_count": null,
   "id": "91b9b4dc",
   "metadata": {},
   "outputs": [],
   "source": [
    "def random_number_generator(number_of_bits,mode): #Combining all the previous functions \n",
    "    simulator = setup_backend(mode)\n",
    "    qc = random_number_circuit(number_of_bits)\n",
    "    bitstring=run_circuit(qc,simulator)\n",
    "    num = bits_to_int(bitstring)\n",
    "    return num "
   ]
  },
  {
   "cell_type": "code",
   "execution_count": null,
   "id": "f231e505",
   "metadata": {},
   "outputs": [
    {
     "name": "stdout",
     "output_type": "stream",
     "text": [
      "Your random number is 15\n"
     ]
    }
   ],
   "source": [
    "num = random_number_generator(4,\"simulator\")\n",
    "print(f\"Your random number is {num}\") #output cell changes everytime you run \n"
   ]
  }
 ],
 "metadata": {
  "kernelspec": {
   "display_name": "Python 3",
   "language": "python",
   "name": "python3"
  },
  "language_info": {
   "codemirror_mode": {
    "name": "ipython",
    "version": 3
   },
   "file_extension": ".py",
   "mimetype": "text/x-python",
   "name": "python",
   "nbconvert_exporter": "python",
   "pygments_lexer": "ipython3",
   "version": "3.11.11"
  }
 },
 "nbformat": 4,
 "nbformat_minor": 5
}
